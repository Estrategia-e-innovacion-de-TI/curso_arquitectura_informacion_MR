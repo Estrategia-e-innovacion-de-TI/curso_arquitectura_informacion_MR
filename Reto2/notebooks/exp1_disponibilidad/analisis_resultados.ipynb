{
 "cells": [
  {
   "cell_type": "markdown",
   "id": "35dac2f6",
   "metadata": {},
   "source": [
    "# Analisis de resultados del experimento 1 - Disponibilidad"
   ]
  },
  {
   "cell_type": "code",
   "execution_count": 27,
   "id": "80e200e8",
   "metadata": {},
   "outputs": [],
   "source": [
    "import pandas as pd\n",
    "df_results_exp1 = pd.read_csv('results.jtl')"
   ]
  },
  {
   "cell_type": "code",
   "execution_count": 28,
   "id": "1772ebdc",
   "metadata": {},
   "outputs": [
    {
     "data": {
      "application/vnd.microsoft.datawrangler.viewer.v0+json": {
       "columns": [
        {
         "name": "index",
         "rawType": "int64",
         "type": "integer"
        },
        {
         "name": "timeStamp",
         "rawType": "int64",
         "type": "integer"
        },
        {
         "name": "elapsed",
         "rawType": "int64",
         "type": "integer"
        },
        {
         "name": "label",
         "rawType": "object",
         "type": "string"
        },
        {
         "name": "responseCode",
         "rawType": "int64",
         "type": "integer"
        },
        {
         "name": "responseMessage",
         "rawType": "object",
         "type": "string"
        },
        {
         "name": "threadName",
         "rawType": "object",
         "type": "string"
        },
        {
         "name": "dataType",
         "rawType": "object",
         "type": "string"
        },
        {
         "name": "success",
         "rawType": "bool",
         "type": "boolean"
        },
        {
         "name": "failureMessage",
         "rawType": "float64",
         "type": "float"
        },
        {
         "name": "bytes",
         "rawType": "int64",
         "type": "integer"
        },
        {
         "name": "sentBytes",
         "rawType": "int64",
         "type": "integer"
        },
        {
         "name": "grpThreads",
         "rawType": "int64",
         "type": "integer"
        },
        {
         "name": "allThreads",
         "rawType": "int64",
         "type": "integer"
        },
        {
         "name": "URL",
         "rawType": "object",
         "type": "string"
        },
        {
         "name": "Latency",
         "rawType": "int64",
         "type": "integer"
        },
        {
         "name": "IdleTime",
         "rawType": "int64",
         "type": "integer"
        },
        {
         "name": "Connect",
         "rawType": "int64",
         "type": "integer"
        }
       ],
       "conversionMethod": "pd.DataFrame",
       "ref": "d9859420-e9fa-49f6-95c9-9d423c02ae92",
       "rows": [
        [
         "0",
         "1744066862505",
         "167",
         "HTTP Request",
         "200",
         "OK",
         "Prueba de disponibilidad de creacion de ordenes 1-1",
         "text",
         "True",
         null,
         "322",
         "140",
         "1",
         "1",
         "http://localhost:8080/monitor/ms-order-service",
         "164",
         "0",
         "7"
        ],
        [
         "1",
         "1744066862874",
         "159",
         "HTTP Request",
         "200",
         "OK",
         "Prueba de disponibilidad de creacion de ordenes 1-1",
         "text",
         "True",
         null,
         "321",
         "140",
         "1",
         "1",
         "http://localhost:8080/monitor/ms-order-service",
         "159",
         "0",
         "0"
        ],
        [
         "2",
         "1744066863278",
         "174",
         "HTTP Request",
         "200",
         "OK",
         "Prueba de disponibilidad de creacion de ordenes 1-1",
         "text",
         "True",
         null,
         "322",
         "140",
         "1",
         "1",
         "http://localhost:8080/monitor/ms-order-service",
         "174",
         "0",
         "0"
        ],
        [
         "3",
         "1744066863677",
         "10",
         "HTTP Request",
         "200",
         "OK",
         "Prueba de disponibilidad de creacion de ordenes 1-1",
         "text",
         "True",
         null,
         "380",
         "140",
         "1",
         "1",
         "http://localhost:8080/monitor/ms-order-service",
         "10",
         "0",
         "0"
        ],
        [
         "4",
         "1744066864077",
         "171",
         "HTTP Request",
         "200",
         "OK",
         "Prueba de disponibilidad de creacion de ordenes 1-1",
         "text",
         "True",
         null,
         "322",
         "140",
         "1",
         "1",
         "http://localhost:8080/monitor/ms-order-service",
         "171",
         "0",
         "0"
        ]
       ],
       "shape": {
        "columns": 17,
        "rows": 5
       }
      },
      "text/html": [
       "<div>\n",
       "<style scoped>\n",
       "    .dataframe tbody tr th:only-of-type {\n",
       "        vertical-align: middle;\n",
       "    }\n",
       "\n",
       "    .dataframe tbody tr th {\n",
       "        vertical-align: top;\n",
       "    }\n",
       "\n",
       "    .dataframe thead th {\n",
       "        text-align: right;\n",
       "    }\n",
       "</style>\n",
       "<table border=\"1\" class=\"dataframe\">\n",
       "  <thead>\n",
       "    <tr style=\"text-align: right;\">\n",
       "      <th></th>\n",
       "      <th>timeStamp</th>\n",
       "      <th>elapsed</th>\n",
       "      <th>label</th>\n",
       "      <th>responseCode</th>\n",
       "      <th>responseMessage</th>\n",
       "      <th>threadName</th>\n",
       "      <th>dataType</th>\n",
       "      <th>success</th>\n",
       "      <th>failureMessage</th>\n",
       "      <th>bytes</th>\n",
       "      <th>sentBytes</th>\n",
       "      <th>grpThreads</th>\n",
       "      <th>allThreads</th>\n",
       "      <th>URL</th>\n",
       "      <th>Latency</th>\n",
       "      <th>IdleTime</th>\n",
       "      <th>Connect</th>\n",
       "    </tr>\n",
       "  </thead>\n",
       "  <tbody>\n",
       "    <tr>\n",
       "      <th>0</th>\n",
       "      <td>1744066862505</td>\n",
       "      <td>167</td>\n",
       "      <td>HTTP Request</td>\n",
       "      <td>200</td>\n",
       "      <td>OK</td>\n",
       "      <td>Prueba de disponibilidad de creacion de ordene...</td>\n",
       "      <td>text</td>\n",
       "      <td>True</td>\n",
       "      <td>NaN</td>\n",
       "      <td>322</td>\n",
       "      <td>140</td>\n",
       "      <td>1</td>\n",
       "      <td>1</td>\n",
       "      <td>http://localhost:8080/monitor/ms-order-service</td>\n",
       "      <td>164</td>\n",
       "      <td>0</td>\n",
       "      <td>7</td>\n",
       "    </tr>\n",
       "    <tr>\n",
       "      <th>1</th>\n",
       "      <td>1744066862874</td>\n",
       "      <td>159</td>\n",
       "      <td>HTTP Request</td>\n",
       "      <td>200</td>\n",
       "      <td>OK</td>\n",
       "      <td>Prueba de disponibilidad de creacion de ordene...</td>\n",
       "      <td>text</td>\n",
       "      <td>True</td>\n",
       "      <td>NaN</td>\n",
       "      <td>321</td>\n",
       "      <td>140</td>\n",
       "      <td>1</td>\n",
       "      <td>1</td>\n",
       "      <td>http://localhost:8080/monitor/ms-order-service</td>\n",
       "      <td>159</td>\n",
       "      <td>0</td>\n",
       "      <td>0</td>\n",
       "    </tr>\n",
       "    <tr>\n",
       "      <th>2</th>\n",
       "      <td>1744066863278</td>\n",
       "      <td>174</td>\n",
       "      <td>HTTP Request</td>\n",
       "      <td>200</td>\n",
       "      <td>OK</td>\n",
       "      <td>Prueba de disponibilidad de creacion de ordene...</td>\n",
       "      <td>text</td>\n",
       "      <td>True</td>\n",
       "      <td>NaN</td>\n",
       "      <td>322</td>\n",
       "      <td>140</td>\n",
       "      <td>1</td>\n",
       "      <td>1</td>\n",
       "      <td>http://localhost:8080/monitor/ms-order-service</td>\n",
       "      <td>174</td>\n",
       "      <td>0</td>\n",
       "      <td>0</td>\n",
       "    </tr>\n",
       "    <tr>\n",
       "      <th>3</th>\n",
       "      <td>1744066863677</td>\n",
       "      <td>10</td>\n",
       "      <td>HTTP Request</td>\n",
       "      <td>200</td>\n",
       "      <td>OK</td>\n",
       "      <td>Prueba de disponibilidad de creacion de ordene...</td>\n",
       "      <td>text</td>\n",
       "      <td>True</td>\n",
       "      <td>NaN</td>\n",
       "      <td>380</td>\n",
       "      <td>140</td>\n",
       "      <td>1</td>\n",
       "      <td>1</td>\n",
       "      <td>http://localhost:8080/monitor/ms-order-service</td>\n",
       "      <td>10</td>\n",
       "      <td>0</td>\n",
       "      <td>0</td>\n",
       "    </tr>\n",
       "    <tr>\n",
       "      <th>4</th>\n",
       "      <td>1744066864077</td>\n",
       "      <td>171</td>\n",
       "      <td>HTTP Request</td>\n",
       "      <td>200</td>\n",
       "      <td>OK</td>\n",
       "      <td>Prueba de disponibilidad de creacion de ordene...</td>\n",
       "      <td>text</td>\n",
       "      <td>True</td>\n",
       "      <td>NaN</td>\n",
       "      <td>322</td>\n",
       "      <td>140</td>\n",
       "      <td>1</td>\n",
       "      <td>1</td>\n",
       "      <td>http://localhost:8080/monitor/ms-order-service</td>\n",
       "      <td>171</td>\n",
       "      <td>0</td>\n",
       "      <td>0</td>\n",
       "    </tr>\n",
       "  </tbody>\n",
       "</table>\n",
       "</div>"
      ],
      "text/plain": [
       "       timeStamp  elapsed         label  responseCode responseMessage  \\\n",
       "0  1744066862505      167  HTTP Request           200              OK   \n",
       "1  1744066862874      159  HTTP Request           200              OK   \n",
       "2  1744066863278      174  HTTP Request           200              OK   \n",
       "3  1744066863677       10  HTTP Request           200              OK   \n",
       "4  1744066864077      171  HTTP Request           200              OK   \n",
       "\n",
       "                                          threadName dataType  success  \\\n",
       "0  Prueba de disponibilidad de creacion de ordene...     text     True   \n",
       "1  Prueba de disponibilidad de creacion de ordene...     text     True   \n",
       "2  Prueba de disponibilidad de creacion de ordene...     text     True   \n",
       "3  Prueba de disponibilidad de creacion de ordene...     text     True   \n",
       "4  Prueba de disponibilidad de creacion de ordene...     text     True   \n",
       "\n",
       "   failureMessage  bytes  sentBytes  grpThreads  allThreads  \\\n",
       "0             NaN    322        140           1           1   \n",
       "1             NaN    321        140           1           1   \n",
       "2             NaN    322        140           1           1   \n",
       "3             NaN    380        140           1           1   \n",
       "4             NaN    322        140           1           1   \n",
       "\n",
       "                                              URL  Latency  IdleTime  Connect  \n",
       "0  http://localhost:8080/monitor/ms-order-service      164         0        7  \n",
       "1  http://localhost:8080/monitor/ms-order-service      159         0        0  \n",
       "2  http://localhost:8080/monitor/ms-order-service      174         0        0  \n",
       "3  http://localhost:8080/monitor/ms-order-service       10         0        0  \n",
       "4  http://localhost:8080/monitor/ms-order-service      171         0        0  "
      ]
     },
     "execution_count": 28,
     "metadata": {},
     "output_type": "execute_result"
    }
   ],
   "source": [
    "df_results_exp1.head()"
   ]
  },
  {
   "cell_type": "code",
   "execution_count": 29,
   "id": "4a487999",
   "metadata": {},
   "outputs": [
    {
     "data": {
      "application/vnd.microsoft.datawrangler.viewer.v0+json": {
       "columns": [
        {
         "name": "index",
         "rawType": "int64",
         "type": "integer"
        },
        {
         "name": "service",
         "rawType": "object",
         "type": "string"
        },
        {
         "name": "status",
         "rawType": "object",
         "type": "string"
        },
        {
         "name": "message",
         "rawType": "object",
         "type": "string"
        },
        {
         "name": "metrics",
         "rawType": "object",
         "type": "unknown"
        }
       ],
       "conversionMethod": "pd.DataFrame",
       "ref": "8cb3decd-ae67-40bf-bae0-72ffb5c49ffe",
       "rows": [
        [
         "0",
         "ms-order-service",
         "healthy",
         "Flujo completo exitoso",
         "{'total_time_ms': 188.94314765930176, 'created_order_id': 1641, 'timestamp': '2025-04-07T18:01:09.469664'}"
        ],
        [
         "1",
         "ms-order-service",
         "healthy",
         "Flujo completo exitoso",
         "{'total_time_ms': 173.86484146118164, 'created_order_id': 1680, 'timestamp': '2025-04-07T18:01:25.853790'}"
        ],
        [
         "2",
         "ms-order-service",
         "healthy",
         "Flujo completo exitoso",
         "{'total_time_ms': 186.6438388824463, 'created_order_id': 1696, 'timestamp': '2025-04-07T18:01:32.266657'}"
        ],
        [
         "3",
         "ms-order-service",
         "healthy",
         "Flujo completo exitoso",
         "{'total_time_ms': 174.5758056640625, 'created_order_id': 1722, 'timestamp': '2025-04-07T18:01:42.654179'}"
        ],
        [
         "4",
         "ms-order-service",
         "healthy",
         "Flujo completo exitoso",
         "{'total_time_ms': 170.5307960510254, 'created_order_id': 1644, 'timestamp': '2025-04-07T18:01:11.050619'}"
        ]
       ],
       "shape": {
        "columns": 4,
        "rows": 5
       }
      },
      "text/html": [
       "<div>\n",
       "<style scoped>\n",
       "    .dataframe tbody tr th:only-of-type {\n",
       "        vertical-align: middle;\n",
       "    }\n",
       "\n",
       "    .dataframe tbody tr th {\n",
       "        vertical-align: top;\n",
       "    }\n",
       "\n",
       "    .dataframe thead th {\n",
       "        text-align: right;\n",
       "    }\n",
       "</style>\n",
       "<table border=\"1\" class=\"dataframe\">\n",
       "  <thead>\n",
       "    <tr style=\"text-align: right;\">\n",
       "      <th></th>\n",
       "      <th>service</th>\n",
       "      <th>status</th>\n",
       "      <th>message</th>\n",
       "      <th>metrics</th>\n",
       "    </tr>\n",
       "  </thead>\n",
       "  <tbody>\n",
       "    <tr>\n",
       "      <th>0</th>\n",
       "      <td>ms-order-service</td>\n",
       "      <td>healthy</td>\n",
       "      <td>Flujo completo exitoso</td>\n",
       "      <td>{'total_time_ms': 188.94314765930176, 'created...</td>\n",
       "    </tr>\n",
       "    <tr>\n",
       "      <th>1</th>\n",
       "      <td>ms-order-service</td>\n",
       "      <td>healthy</td>\n",
       "      <td>Flujo completo exitoso</td>\n",
       "      <td>{'total_time_ms': 173.86484146118164, 'created...</td>\n",
       "    </tr>\n",
       "    <tr>\n",
       "      <th>2</th>\n",
       "      <td>ms-order-service</td>\n",
       "      <td>healthy</td>\n",
       "      <td>Flujo completo exitoso</td>\n",
       "      <td>{'total_time_ms': 186.6438388824463, 'created_...</td>\n",
       "    </tr>\n",
       "    <tr>\n",
       "      <th>3</th>\n",
       "      <td>ms-order-service</td>\n",
       "      <td>healthy</td>\n",
       "      <td>Flujo completo exitoso</td>\n",
       "      <td>{'total_time_ms': 174.5758056640625, 'created_...</td>\n",
       "    </tr>\n",
       "    <tr>\n",
       "      <th>4</th>\n",
       "      <td>ms-order-service</td>\n",
       "      <td>healthy</td>\n",
       "      <td>Flujo completo exitoso</td>\n",
       "      <td>{'total_time_ms': 170.5307960510254, 'created_...</td>\n",
       "    </tr>\n",
       "  </tbody>\n",
       "</table>\n",
       "</div>"
      ],
      "text/plain": [
       "            service   status                 message  \\\n",
       "0  ms-order-service  healthy  Flujo completo exitoso   \n",
       "1  ms-order-service  healthy  Flujo completo exitoso   \n",
       "2  ms-order-service  healthy  Flujo completo exitoso   \n",
       "3  ms-order-service  healthy  Flujo completo exitoso   \n",
       "4  ms-order-service  healthy  Flujo completo exitoso   \n",
       "\n",
       "                                             metrics  \n",
       "0  {'total_time_ms': 188.94314765930176, 'created...  \n",
       "1  {'total_time_ms': 173.86484146118164, 'created...  \n",
       "2  {'total_time_ms': 186.6438388824463, 'created_...  \n",
       "3  {'total_time_ms': 174.5758056640625, 'created_...  \n",
       "4  {'total_time_ms': 170.5307960510254, 'created_...  "
      ]
     },
     "execution_count": 29,
     "metadata": {},
     "output_type": "execute_result"
    }
   ],
   "source": [
    "# Read a folder full of json files and put it into a dataframe\n",
    "import os\n",
    "import json\n",
    "import pandas as pd\n",
    "def read_json_files_in_folder(folder_path):\n",
    "    data = []\n",
    "    for filename in os.listdir(folder_path):\n",
    "        if filename.endswith('.json'):\n",
    "            with open(os.path.join(folder_path, filename), 'r') as f:\n",
    "                data.append(json.load(f))\n",
    "    return pd.DataFrame(data)\n",
    "df_results_exp1 = read_json_files_in_folder('./responses/')\n",
    "df_results_exp1.head()\n"
   ]
  },
  {
   "cell_type": "code",
   "execution_count": 30,
   "id": "93e41d25",
   "metadata": {},
   "outputs": [
    {
     "data": {
      "application/vnd.microsoft.datawrangler.viewer.v0+json": {
       "columns": [
        {
         "name": "index",
         "rawType": "int64",
         "type": "integer"
        },
        {
         "name": "service",
         "rawType": "object",
         "type": "string"
        },
        {
         "name": "status",
         "rawType": "object",
         "type": "string"
        },
        {
         "name": "message",
         "rawType": "object",
         "type": "string"
        },
        {
         "name": "metric_total_time_ms",
         "rawType": "float64",
         "type": "float"
        },
        {
         "name": "metric_created_order_id",
         "rawType": "float64",
         "type": "float"
        },
        {
         "name": "metric_timestamp",
         "rawType": "object",
         "type": "string"
        },
        {
         "name": "metric_alert_id",
         "rawType": "object",
         "type": "unknown"
        }
       ],
       "conversionMethod": "pd.DataFrame",
       "ref": "6c79143a-2bd3-4d44-af8e-f45bbb29c49c",
       "rows": [
        [
         "0",
         "ms-order-service",
         "healthy",
         "Flujo completo exitoso",
         "188.94314765930176",
         "1641.0",
         "2025-04-07T18:01:09.469664",
         null
        ],
        [
         "1",
         "ms-order-service",
         "healthy",
         "Flujo completo exitoso",
         "173.86484146118164",
         "1680.0",
         "2025-04-07T18:01:25.853790",
         null
        ],
        [
         "2",
         "ms-order-service",
         "healthy",
         "Flujo completo exitoso",
         "186.6438388824463",
         "1696.0",
         "2025-04-07T18:01:32.266657",
         null
        ],
        [
         "3",
         "ms-order-service",
         "healthy",
         "Flujo completo exitoso",
         "174.5758056640625",
         "1722.0",
         "2025-04-07T18:01:42.654179",
         null
        ],
        [
         "4",
         "ms-order-service",
         "healthy",
         "Flujo completo exitoso",
         "170.5307960510254",
         "1644.0",
         "2025-04-07T18:01:11.050619",
         null
        ]
       ],
       "shape": {
        "columns": 7,
        "rows": 5
       }
      },
      "text/html": [
       "<div>\n",
       "<style scoped>\n",
       "    .dataframe tbody tr th:only-of-type {\n",
       "        vertical-align: middle;\n",
       "    }\n",
       "\n",
       "    .dataframe tbody tr th {\n",
       "        vertical-align: top;\n",
       "    }\n",
       "\n",
       "    .dataframe thead th {\n",
       "        text-align: right;\n",
       "    }\n",
       "</style>\n",
       "<table border=\"1\" class=\"dataframe\">\n",
       "  <thead>\n",
       "    <tr style=\"text-align: right;\">\n",
       "      <th></th>\n",
       "      <th>service</th>\n",
       "      <th>status</th>\n",
       "      <th>message</th>\n",
       "      <th>metric_total_time_ms</th>\n",
       "      <th>metric_created_order_id</th>\n",
       "      <th>metric_timestamp</th>\n",
       "      <th>metric_alert_id</th>\n",
       "    </tr>\n",
       "  </thead>\n",
       "  <tbody>\n",
       "    <tr>\n",
       "      <th>0</th>\n",
       "      <td>ms-order-service</td>\n",
       "      <td>healthy</td>\n",
       "      <td>Flujo completo exitoso</td>\n",
       "      <td>188.943148</td>\n",
       "      <td>1641.0</td>\n",
       "      <td>2025-04-07T18:01:09.469664</td>\n",
       "      <td>NaN</td>\n",
       "    </tr>\n",
       "    <tr>\n",
       "      <th>1</th>\n",
       "      <td>ms-order-service</td>\n",
       "      <td>healthy</td>\n",
       "      <td>Flujo completo exitoso</td>\n",
       "      <td>173.864841</td>\n",
       "      <td>1680.0</td>\n",
       "      <td>2025-04-07T18:01:25.853790</td>\n",
       "      <td>NaN</td>\n",
       "    </tr>\n",
       "    <tr>\n",
       "      <th>2</th>\n",
       "      <td>ms-order-service</td>\n",
       "      <td>healthy</td>\n",
       "      <td>Flujo completo exitoso</td>\n",
       "      <td>186.643839</td>\n",
       "      <td>1696.0</td>\n",
       "      <td>2025-04-07T18:01:32.266657</td>\n",
       "      <td>NaN</td>\n",
       "    </tr>\n",
       "    <tr>\n",
       "      <th>3</th>\n",
       "      <td>ms-order-service</td>\n",
       "      <td>healthy</td>\n",
       "      <td>Flujo completo exitoso</td>\n",
       "      <td>174.575806</td>\n",
       "      <td>1722.0</td>\n",
       "      <td>2025-04-07T18:01:42.654179</td>\n",
       "      <td>NaN</td>\n",
       "    </tr>\n",
       "    <tr>\n",
       "      <th>4</th>\n",
       "      <td>ms-order-service</td>\n",
       "      <td>healthy</td>\n",
       "      <td>Flujo completo exitoso</td>\n",
       "      <td>170.530796</td>\n",
       "      <td>1644.0</td>\n",
       "      <td>2025-04-07T18:01:11.050619</td>\n",
       "      <td>NaN</td>\n",
       "    </tr>\n",
       "  </tbody>\n",
       "</table>\n",
       "</div>"
      ],
      "text/plain": [
       "            service   status                 message  metric_total_time_ms  \\\n",
       "0  ms-order-service  healthy  Flujo completo exitoso            188.943148   \n",
       "1  ms-order-service  healthy  Flujo completo exitoso            173.864841   \n",
       "2  ms-order-service  healthy  Flujo completo exitoso            186.643839   \n",
       "3  ms-order-service  healthy  Flujo completo exitoso            174.575806   \n",
       "4  ms-order-service  healthy  Flujo completo exitoso            170.530796   \n",
       "\n",
       "   metric_created_order_id            metric_timestamp metric_alert_id  \n",
       "0                   1641.0  2025-04-07T18:01:09.469664             NaN  \n",
       "1                   1680.0  2025-04-07T18:01:25.853790             NaN  \n",
       "2                   1696.0  2025-04-07T18:01:32.266657             NaN  \n",
       "3                   1722.0  2025-04-07T18:01:42.654179             NaN  \n",
       "4                   1644.0  2025-04-07T18:01:11.050619             NaN  "
      ]
     },
     "execution_count": 30,
     "metadata": {},
     "output_type": "execute_result"
    }
   ],
   "source": [
    "# Expand metrics from nested json\n",
    "def expand_metrics(df):\n",
    "    metrics = df['metrics'].apply(pd.Series)\n",
    "    metrics.columns = [f'metric_{col}' for col in metrics.columns]\n",
    "    return pd.concat([df.drop(columns=['metrics']), metrics], axis=1)\n",
    "df_results_exp1 = expand_metrics(df_results_exp1)\n",
    "df_results_exp1.head()"
   ]
  },
  {
   "cell_type": "code",
   "execution_count": 32,
   "id": "837a1051",
   "metadata": {},
   "outputs": [
    {
     "data": {
      "application/vnd.microsoft.datawrangler.viewer.v0+json": {
       "columns": [
        {
         "name": "index",
         "rawType": "int64",
         "type": "integer"
        },
        {
         "name": "service",
         "rawType": "object",
         "type": "string"
        },
        {
         "name": "status",
         "rawType": "object",
         "type": "string"
        },
        {
         "name": "message",
         "rawType": "object",
         "type": "string"
        },
        {
         "name": "metric_total_time_ms",
         "rawType": "float64",
         "type": "float"
        },
        {
         "name": "metric_created_order_id",
         "rawType": "float64",
         "type": "float"
        },
        {
         "name": "metric_timestamp",
         "rawType": "object",
         "type": "string"
        },
        {
         "name": "metric_alert_id",
         "rawType": "object",
         "type": "unknown"
        }
       ],
       "conversionMethod": "pd.DataFrame",
       "ref": "55ba2d66-6969-47fb-9770-da586d7e25b5",
       "rows": [
        [
         "0",
         "ms-order-service",
         "healthy",
         "Flujo completo exitoso",
         "188.94314765930176",
         "1641.0",
         "2025-04-07T18:01:09.469664",
         null
        ],
        [
         "1",
         "ms-order-service",
         "healthy",
         "Flujo completo exitoso",
         "173.86484146118164",
         "1680.0",
         "2025-04-07T18:01:25.853790",
         null
        ],
        [
         "2",
         "ms-order-service",
         "healthy",
         "Flujo completo exitoso",
         "186.6438388824463",
         "1696.0",
         "2025-04-07T18:01:32.266657",
         null
        ],
        [
         "3",
         "ms-order-service",
         "healthy",
         "Flujo completo exitoso",
         "174.5758056640625",
         "1722.0",
         "2025-04-07T18:01:42.654179",
         null
        ],
        [
         "4",
         "ms-order-service",
         "healthy",
         "Flujo completo exitoso",
         "170.5307960510254",
         "1644.0",
         "2025-04-07T18:01:11.050619",
         null
        ]
       ],
       "shape": {
        "columns": 7,
        "rows": 5
       }
      },
      "text/html": [
       "<div>\n",
       "<style scoped>\n",
       "    .dataframe tbody tr th:only-of-type {\n",
       "        vertical-align: middle;\n",
       "    }\n",
       "\n",
       "    .dataframe tbody tr th {\n",
       "        vertical-align: top;\n",
       "    }\n",
       "\n",
       "    .dataframe thead th {\n",
       "        text-align: right;\n",
       "    }\n",
       "</style>\n",
       "<table border=\"1\" class=\"dataframe\">\n",
       "  <thead>\n",
       "    <tr style=\"text-align: right;\">\n",
       "      <th></th>\n",
       "      <th>service</th>\n",
       "      <th>status</th>\n",
       "      <th>message</th>\n",
       "      <th>metric_total_time_ms</th>\n",
       "      <th>metric_created_order_id</th>\n",
       "      <th>metric_timestamp</th>\n",
       "      <th>metric_alert_id</th>\n",
       "    </tr>\n",
       "  </thead>\n",
       "  <tbody>\n",
       "    <tr>\n",
       "      <th>0</th>\n",
       "      <td>ms-order-service</td>\n",
       "      <td>healthy</td>\n",
       "      <td>Flujo completo exitoso</td>\n",
       "      <td>188.943148</td>\n",
       "      <td>1641.0</td>\n",
       "      <td>2025-04-07T18:01:09.469664</td>\n",
       "      <td>NaN</td>\n",
       "    </tr>\n",
       "    <tr>\n",
       "      <th>1</th>\n",
       "      <td>ms-order-service</td>\n",
       "      <td>healthy</td>\n",
       "      <td>Flujo completo exitoso</td>\n",
       "      <td>173.864841</td>\n",
       "      <td>1680.0</td>\n",
       "      <td>2025-04-07T18:01:25.853790</td>\n",
       "      <td>NaN</td>\n",
       "    </tr>\n",
       "    <tr>\n",
       "      <th>2</th>\n",
       "      <td>ms-order-service</td>\n",
       "      <td>healthy</td>\n",
       "      <td>Flujo completo exitoso</td>\n",
       "      <td>186.643839</td>\n",
       "      <td>1696.0</td>\n",
       "      <td>2025-04-07T18:01:32.266657</td>\n",
       "      <td>NaN</td>\n",
       "    </tr>\n",
       "    <tr>\n",
       "      <th>3</th>\n",
       "      <td>ms-order-service</td>\n",
       "      <td>healthy</td>\n",
       "      <td>Flujo completo exitoso</td>\n",
       "      <td>174.575806</td>\n",
       "      <td>1722.0</td>\n",
       "      <td>2025-04-07T18:01:42.654179</td>\n",
       "      <td>NaN</td>\n",
       "    </tr>\n",
       "    <tr>\n",
       "      <th>4</th>\n",
       "      <td>ms-order-service</td>\n",
       "      <td>healthy</td>\n",
       "      <td>Flujo completo exitoso</td>\n",
       "      <td>170.530796</td>\n",
       "      <td>1644.0</td>\n",
       "      <td>2025-04-07T18:01:11.050619</td>\n",
       "      <td>NaN</td>\n",
       "    </tr>\n",
       "  </tbody>\n",
       "</table>\n",
       "</div>"
      ],
      "text/plain": [
       "            service   status                 message  metric_total_time_ms  \\\n",
       "0  ms-order-service  healthy  Flujo completo exitoso            188.943148   \n",
       "1  ms-order-service  healthy  Flujo completo exitoso            173.864841   \n",
       "2  ms-order-service  healthy  Flujo completo exitoso            186.643839   \n",
       "3  ms-order-service  healthy  Flujo completo exitoso            174.575806   \n",
       "4  ms-order-service  healthy  Flujo completo exitoso            170.530796   \n",
       "\n",
       "   metric_created_order_id            metric_timestamp metric_alert_id  \n",
       "0                   1641.0  2025-04-07T18:01:09.469664             NaN  \n",
       "1                   1680.0  2025-04-07T18:01:25.853790             NaN  \n",
       "2                   1696.0  2025-04-07T18:01:32.266657             NaN  \n",
       "3                   1722.0  2025-04-07T18:01:42.654179             NaN  \n",
       "4                   1644.0  2025-04-07T18:01:11.050619             NaN  "
      ]
     },
     "execution_count": 32,
     "metadata": {},
     "output_type": "execute_result"
    }
   ],
   "source": [
    "df_results_exp1.head()"
   ]
  },
  {
   "cell_type": "code",
   "execution_count": null,
   "id": "5a4ba6c0",
   "metadata": {},
   "outputs": [],
   "source": [
    "import matplotlib.pyplot as plt\n",
    "import seaborn as sns\n",
    "import pandas as pd\n",
    "\n",
    "def plot_mean_response_time(df, response_time_column, timestamp_column=None, figsize=(10, 6)):\n",
    "    \"\"\"\n",
    "    Create a visualization of mean response times comparing alert vs non-alert data\n",
    "    \n",
    "    Parameters:\n",
    "    -----------\n",
    "    df : pandas DataFrame\n",
    "        DataFrame containing response time and label data\n",
    "    response_time_column : str\n",
    "        Column name containing the response time in milliseconds\n",
    "    timestamp_column : str, optional\n",
    "        Column name for timestamps if you want to include a time series view\n",
    "    figsize : tuple, optional\n",
    "        Figure size (width, height) in inches\n",
    "    \"\"\"\n",
    "    # Create figure with two subplots\n",
    "    fig, axes = plt.subplots(1, 2, figsize=figsize)\n",
    "    \n",
    "    # 1. Bar chart comparing mean response times\n",
    "    mean_times = df.groupby('status')[response_time_column].mean().reset_index()\n",
    "    mean_times['Status'] = mean_times['status'].map({0: 'healthy', 1: 'degraded'})\n",
    "    \n",
    "    sns.barplot(x='Status', y=response_time_column, data=mean_times, ax=axes[0])\n",
    "    axes[0].set_title('Mean Response Time by Status')\n",
    "    axes[0].set_ylabel('Response Time (ms)')\n",
    "    \n",
    "    # 2. Box plot to show distribution\n",
    "    sns.boxplot(x='label', y=response_time_column, data=df, ax=axes[1])\n",
    "    axes[1].set_title('Response Time Distribution')\n",
    "    axes[1].set_xlabel('Status (0=Normal, 1=Alert)')\n",
    "    axes[1].set_ylabel('Response Time (ms)')\n",
    "    \n",
    "    plt.tight_layout()\n",
    "    plt.show()\n",
    "    \n",
    "    # Print some statistics for reference\n",
    "    print(\"Mean Response Time Statistics:\")\n",
    "    for label, group_df in df.groupby('status'):\n",
    "        status = \"Alert\" if label == 1 else \"Normal\"\n",
    "        print(f\"{status}: {group_df[response_time_column].mean():.2f} ms\")\n",
    "        \n",
    "    # Calculate how much higher/lower the alert responses are\n",
    "    if len(mean_times) == 2:\n",
    "        normal = mean_times.loc[mean_times['status'] == 0, response_time_column].values[0]\n",
    "        alert = mean_times.loc[mean_times['status'] == 1, response_time_column].values[0]\n",
    "        pct_diff = ((alert - normal) / normal) * 100\n",
    "        print(f\"\\nAlert response times are {abs(pct_diff):.2f}% {'higher' if pct_diff > 0 else 'lower'} than normal\")\n",
    "\n",
    "def plot_response_time_series(df, response_time_column, timestamp_column, figsize=(12, 6)):\n",
    "    \"\"\"\n",
    "    Plot response times as a time series with alerts highlighted\n",
    "    \n",
    "    Parameters:\n",
    "    -----------\n",
    "    df : pandas DataFrame\n",
    "        DataFrame containing response time, timestamp and label data\n",
    "    response_time_column : str\n",
    "        Column name containing the response time in milliseconds\n",
    "    timestamp_column : str\n",
    "        Column name for timestamps\n",
    "    figsize : tuple, optional\n",
    "        Figure size (width, height) in inches\n",
    "    \"\"\"\n",
    "    # Ensure timestamp is in datetime format\n",
    "    if not pd.api.types.is_datetime64_any_dtype(df[timestamp_column]):\n",
    "        df[timestamp_column] = pd.to_datetime(df[timestamp_column])\n",
    "    \n",
    "    # Create figure\n",
    "    plt.figure(figsize=figsize)\n",
    "    \n",
    "    # Plot all response times\n",
    "    plt.scatter(df[timestamp_column], df[response_time_column], \n",
    "                c=df['label'].map({0: 'blue', 1: 'red'}),\n",
    "                alpha=0.5, label='Response Time')\n",
    "    \n",
    "    # Add a line for the mean\n",
    "    plt.axhline(y=df[response_time_column].mean(), color='green', linestyle='--', \n",
    "                label=f'Overall Mean: {df[response_time_column].mean():.2f} ms')\n",
    "    \n",
    "    # Add a line for alert mean\n",
    "    if 1 in df['label'].values:\n",
    "        alert_mean = df[df['label'] == 1][response_time_column].mean()\n",
    "        plt.axhline(y=alert_mean, color='red', linestyle='--', \n",
    "                    label=f'Alert Mean: {alert_mean:.2f} ms')\n",
    "    \n",
    "    plt.title('Response Time Over Time with Alerts Highlighted')\n",
    "    plt.xlabel('Timestamp')\n",
    "    plt.ylabel('Response Time (ms)')\n",
    "    plt.legend()\n",
    "    plt.grid(True, alpha=0.3)\n",
    "    \n",
    "    plt.tight_layout()\n",
    "    plt.show()\n",
    "\n",
    "# Example usage:\n",
    "# plot_response_time_series(df, 'response_time_ms', 'timestamp') Example usage:\n",
    "# plot_mean_response_time(df, 'response_time_ms')"
   ]
  },
  {
   "cell_type": "code",
   "execution_count": 41,
   "id": "932c017d",
   "metadata": {},
   "outputs": [
    {
     "data": {
      "text/plain": [
       "array(['healthy', 'degraded'], dtype=object)"
      ]
     },
     "execution_count": 41,
     "metadata": {},
     "output_type": "execute_result"
    }
   ],
   "source": [
    "df_results_exp1['status'].unique()"
   ]
  },
  {
   "cell_type": "code",
   "execution_count": 40,
   "id": "97497656",
   "metadata": {},
   "outputs": [
    {
     "ename": "KeyError",
     "evalue": "'label'",
     "output_type": "error",
     "traceback": [
      "\u001b[31m---------------------------------------------------------------------------\u001b[39m",
      "\u001b[31mKeyError\u001b[39m                                  Traceback (most recent call last)",
      "\u001b[36mFile \u001b[39m\u001b[32m~/Developer/Bancolombia/curso_arquitectura_informacion_MR/.venv/lib/python3.11/site-packages/pandas/core/indexes/base.py:3805\u001b[39m, in \u001b[36mIndex.get_loc\u001b[39m\u001b[34m(self, key)\u001b[39m\n\u001b[32m   3804\u001b[39m \u001b[38;5;28;01mtry\u001b[39;00m:\n\u001b[32m-> \u001b[39m\u001b[32m3805\u001b[39m     \u001b[38;5;28;01mreturn\u001b[39;00m \u001b[38;5;28;43mself\u001b[39;49m\u001b[43m.\u001b[49m\u001b[43m_engine\u001b[49m\u001b[43m.\u001b[49m\u001b[43mget_loc\u001b[49m\u001b[43m(\u001b[49m\u001b[43mcasted_key\u001b[49m\u001b[43m)\u001b[49m\n\u001b[32m   3806\u001b[39m \u001b[38;5;28;01mexcept\u001b[39;00m \u001b[38;5;167;01mKeyError\u001b[39;00m \u001b[38;5;28;01mas\u001b[39;00m err:\n",
      "\u001b[36mFile \u001b[39m\u001b[32mindex.pyx:167\u001b[39m, in \u001b[36mpandas._libs.index.IndexEngine.get_loc\u001b[39m\u001b[34m()\u001b[39m\n",
      "\u001b[36mFile \u001b[39m\u001b[32mindex.pyx:196\u001b[39m, in \u001b[36mpandas._libs.index.IndexEngine.get_loc\u001b[39m\u001b[34m()\u001b[39m\n",
      "\u001b[36mFile \u001b[39m\u001b[32mpandas/_libs/hashtable_class_helper.pxi:7081\u001b[39m, in \u001b[36mpandas._libs.hashtable.PyObjectHashTable.get_item\u001b[39m\u001b[34m()\u001b[39m\n",
      "\u001b[36mFile \u001b[39m\u001b[32mpandas/_libs/hashtable_class_helper.pxi:7089\u001b[39m, in \u001b[36mpandas._libs.hashtable.PyObjectHashTable.get_item\u001b[39m\u001b[34m()\u001b[39m\n",
      "\u001b[31mKeyError\u001b[39m: 'label'",
      "\nThe above exception was the direct cause of the following exception:\n",
      "\u001b[31mKeyError\u001b[39m                                  Traceback (most recent call last)",
      "\u001b[36mCell\u001b[39m\u001b[36m \u001b[39m\u001b[32mIn[40]\u001b[39m\u001b[32m, line 5\u001b[39m\n\u001b[32m      2\u001b[39m response_time_column = \u001b[33m'\u001b[39m\u001b[33mmetric_total_time_ms\u001b[39m\u001b[33m'\u001b[39m \n\u001b[32m      4\u001b[39m \u001b[38;5;66;03m# Plot the mean response time comparison\u001b[39;00m\n\u001b[32m----> \u001b[39m\u001b[32m5\u001b[39m \u001b[43mplot_mean_response_time\u001b[49m\u001b[43m(\u001b[49m\u001b[43mdf_results_exp1\u001b[49m\u001b[43m,\u001b[49m\u001b[43m \u001b[49m\u001b[43mresponse_time_column\u001b[49m\u001b[43m)\u001b[49m\n\u001b[32m      7\u001b[39m \u001b[38;5;66;03m# If you want to also see the time series view\u001b[39;00m\n\u001b[32m      8\u001b[39m \u001b[38;5;66;03m# plot_response_time_series(df, response_time_column, 'timestamp')\u001b[39;00m\n",
      "\u001b[36mCell\u001b[39m\u001b[36m \u001b[39m\u001b[32mIn[39]\u001b[39m\u001b[32m, line 25\u001b[39m, in \u001b[36mplot_mean_response_time\u001b[39m\u001b[34m(df, response_time_column, timestamp_column, figsize)\u001b[39m\n\u001b[32m     23\u001b[39m \u001b[38;5;66;03m# 1. Bar chart comparing mean response times\u001b[39;00m\n\u001b[32m     24\u001b[39m mean_times = df.groupby(\u001b[33m'\u001b[39m\u001b[33mstatus\u001b[39m\u001b[33m'\u001b[39m)[response_time_column].mean().reset_index()\n\u001b[32m---> \u001b[39m\u001b[32m25\u001b[39m mean_times[\u001b[33m'\u001b[39m\u001b[33mStatus\u001b[39m\u001b[33m'\u001b[39m] = \u001b[43mmean_times\u001b[49m\u001b[43m[\u001b[49m\u001b[33;43m'\u001b[39;49m\u001b[33;43mlabel\u001b[39;49m\u001b[33;43m'\u001b[39;49m\u001b[43m]\u001b[49m.map({\u001b[32m0\u001b[39m: \u001b[33m'\u001b[39m\u001b[33mNormal\u001b[39m\u001b[33m'\u001b[39m, \u001b[32m1\u001b[39m: \u001b[33m'\u001b[39m\u001b[33mAlert\u001b[39m\u001b[33m'\u001b[39m})\n\u001b[32m     27\u001b[39m sns.barplot(x=\u001b[33m'\u001b[39m\u001b[33mStatus\u001b[39m\u001b[33m'\u001b[39m, y=response_time_column, data=mean_times, ax=axes[\u001b[32m0\u001b[39m])\n\u001b[32m     28\u001b[39m axes[\u001b[32m0\u001b[39m].set_title(\u001b[33m'\u001b[39m\u001b[33mMean Response Time by Status\u001b[39m\u001b[33m'\u001b[39m)\n",
      "\u001b[36mFile \u001b[39m\u001b[32m~/Developer/Bancolombia/curso_arquitectura_informacion_MR/.venv/lib/python3.11/site-packages/pandas/core/frame.py:4102\u001b[39m, in \u001b[36mDataFrame.__getitem__\u001b[39m\u001b[34m(self, key)\u001b[39m\n\u001b[32m   4100\u001b[39m \u001b[38;5;28;01mif\u001b[39;00m \u001b[38;5;28mself\u001b[39m.columns.nlevels > \u001b[32m1\u001b[39m:\n\u001b[32m   4101\u001b[39m     \u001b[38;5;28;01mreturn\u001b[39;00m \u001b[38;5;28mself\u001b[39m._getitem_multilevel(key)\n\u001b[32m-> \u001b[39m\u001b[32m4102\u001b[39m indexer = \u001b[38;5;28;43mself\u001b[39;49m\u001b[43m.\u001b[49m\u001b[43mcolumns\u001b[49m\u001b[43m.\u001b[49m\u001b[43mget_loc\u001b[49m\u001b[43m(\u001b[49m\u001b[43mkey\u001b[49m\u001b[43m)\u001b[49m\n\u001b[32m   4103\u001b[39m \u001b[38;5;28;01mif\u001b[39;00m is_integer(indexer):\n\u001b[32m   4104\u001b[39m     indexer = [indexer]\n",
      "\u001b[36mFile \u001b[39m\u001b[32m~/Developer/Bancolombia/curso_arquitectura_informacion_MR/.venv/lib/python3.11/site-packages/pandas/core/indexes/base.py:3812\u001b[39m, in \u001b[36mIndex.get_loc\u001b[39m\u001b[34m(self, key)\u001b[39m\n\u001b[32m   3807\u001b[39m     \u001b[38;5;28;01mif\u001b[39;00m \u001b[38;5;28misinstance\u001b[39m(casted_key, \u001b[38;5;28mslice\u001b[39m) \u001b[38;5;129;01mor\u001b[39;00m (\n\u001b[32m   3808\u001b[39m         \u001b[38;5;28misinstance\u001b[39m(casted_key, abc.Iterable)\n\u001b[32m   3809\u001b[39m         \u001b[38;5;129;01mand\u001b[39;00m \u001b[38;5;28many\u001b[39m(\u001b[38;5;28misinstance\u001b[39m(x, \u001b[38;5;28mslice\u001b[39m) \u001b[38;5;28;01mfor\u001b[39;00m x \u001b[38;5;129;01min\u001b[39;00m casted_key)\n\u001b[32m   3810\u001b[39m     ):\n\u001b[32m   3811\u001b[39m         \u001b[38;5;28;01mraise\u001b[39;00m InvalidIndexError(key)\n\u001b[32m-> \u001b[39m\u001b[32m3812\u001b[39m     \u001b[38;5;28;01mraise\u001b[39;00m \u001b[38;5;167;01mKeyError\u001b[39;00m(key) \u001b[38;5;28;01mfrom\u001b[39;00m\u001b[38;5;250m \u001b[39m\u001b[34;01merr\u001b[39;00m\n\u001b[32m   3813\u001b[39m \u001b[38;5;28;01mexcept\u001b[39;00m \u001b[38;5;167;01mTypeError\u001b[39;00m:\n\u001b[32m   3814\u001b[39m     \u001b[38;5;66;03m# If we have a listlike key, _check_indexing_error will raise\u001b[39;00m\n\u001b[32m   3815\u001b[39m     \u001b[38;5;66;03m#  InvalidIndexError. Otherwise we fall through and re-raise\u001b[39;00m\n\u001b[32m   3816\u001b[39m     \u001b[38;5;66;03m#  the TypeError.\u001b[39;00m\n\u001b[32m   3817\u001b[39m     \u001b[38;5;28mself\u001b[39m._check_indexing_error(key)\n",
      "\u001b[31mKeyError\u001b[39m: 'label'"
     ]
    },
    {
     "data": {
      "image/png": "[encoded data removed]",
      "text/plain": [
       "<Figure size 1000x600 with 2 Axes>"
      ]
     },
     "metadata": {},
     "output_type": "display_data"
    }
   ],
   "source": [
    "# Replace 'response_time_ms' with your actual column name that contains response times\n",
    "response_time_column = 'metric_total_time_ms' \n",
    "\n",
    "# Plot the mean response time comparison\n",
    "plot_mean_response_time(df_results_exp1, response_time_column)\n",
    "\n",
    "# If you want to also see the time series view\n",
    "# plot_response_time_series(df, response_time_column, 'timestamp')"
   ]
  }
 ],
 "metadata": {
  "kernelspec": {
   "display_name": ".venv",
   "language": "python",
   "name": "python3"
  },
  "language_info": {
   "codemirror_mode": {
    "name": "ipython",
    "version": 3
   },
   "file_extension": ".py",
   "mimetype": "text/x-python",
   "name": "python",
   "nbconvert_exporter": "python",
   "pygments_lexer": "ipython3",
   "version": "3.11.10"
  }
 },
 "nbformat": 4,
 "nbformat_minor": 5
}
