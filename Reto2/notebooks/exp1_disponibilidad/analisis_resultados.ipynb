{
 "cells": [
  {
   "cell_type": "markdown",
   "id": "35dac2f6",
   "metadata": {},
   "source": [
    "# Analisis de resultados del experimento 1 - Disponibilidad"
   ]
  },
  {
   "cell_type": "code",
   "execution_count": 27,
   "id": "80e200e8",
   "metadata": {},
   "outputs": [],
   "source": [
    "import pandas as pd\n",
    "df_results_exp1 = pd.read_csv('results.jtl')"
   ]
  },
  {
   "cell_type": "code",
   "execution_count": 28,
   "id": "1772ebdc",
   "metadata": {},
   "outputs": [
    {
     "data": {
      "application/vnd.microsoft.datawrangler.viewer.v0+json": {
       "columns": [
        {
         "name": "index",
         "rawType": "int64",
         "type": "integer"
        },
        {
         "name": "timeStamp",
         "rawType": "int64",
         "type": "integer"
        },
        {
         "name": "elapsed",
         "rawType": "int64",
         "type": "integer"
        },
        {
         "name": "label",
         "rawType": "object",
         "type": "string"
        },
        {
         "name": "responseCode",
         "rawType": "int64",
         "type": "integer"
        },
        {
         "name": "responseMessage",
         "rawType": "object",
         "type": "string"
        },
        {
         "name": "threadName",
         "rawType": "object",
         "type": "string"
        },
        {
         "name": "dataType",
         "rawType": "object",
         "type": "string"
        },
        {
         "name": "success",
         "rawType": "bool",
         "type": "boolean"
        },
        {
         "name": "failureMessage",
         "rawType": "float64",
         "type": "float"
        },
        {
         "name": "bytes",
         "rawType": "int64",
         "type": "integer"
        },
        {
         "name": "sentBytes",
         "rawType": "int64",
         "type": "integer"
        },
        {
         "name": "grpThreads",
         "rawType": "int64",
         "type": "integer"
        },
        {
         "name": "allThreads",
         "rawType": "int64",
         "type": "integer"
        },
        {
         "name": "URL",
         "rawType": "object",
         "type": "string"
        },
        {
         "name": "Latency",
         "rawType": "int64",
         "type": "integer"
        },
        {
         "name": "IdleTime",
         "rawType": "int64",
         "type": "integer"
        },
        {
         "name": "Connect",
         "rawType": "int64",
         "type": "integer"
        }
       ],
       "conversionMethod": "pd.DataFrame",
       "ref": "d9859420-e9fa-49f6-95c9-9d423c02ae92",
       "rows": [
        [
         "0",
         "1744066862505",
         "167",
         "HTTP Request",
         "200",
         "OK",
         "Prueba de disponibilidad de creacion de ordenes 1-1",
         "text",
         "True",
         null,
         "322",
         "140",
         "1",
         "1",
         "http://localhost:8080/monitor/ms-order-service",
         "164",
         "0",
         "7"
        ],
        [
         "1",
         "1744066862874",
         "159",
         "HTTP Request",
         "200",
         "OK",
         "Prueba de disponibilidad de creacion de ordenes 1-1",
         "text",
         "True",
         null,
         "321",
         "140",
         "1",
         "1",
         "http://localhost:8080/monitor/ms-order-service",
         "159",
         "0",
         "0"
        ],
        [
         "2",
         "1744066863278",
         "174",
         "HTTP Request",
         "200",
         "OK",
         "Prueba de disponibilidad de creacion de ordenes 1-1",
         "text",
         "True",
         null,
         "322",
         "140",
         "1",
         "1",
         "http://localhost:8080/monitor/ms-order-service",
         "174",
         "0",
         "0"
        ],
        [
         "3",
         "1744066863677",
         "10",
         "HTTP Request",
         "200",
         "OK",
         "Prueba de disponibilidad de creacion de ordenes 1-1",
         "text",
         "True",
         null,
         "380",
         "140",
         "1",
         "1",
         "http://localhost:8080/monitor/ms-order-service",
         "10",
         "0",
         "0"
        ],
        [
         "4",
         "1744066864077",
         "171",
         "HTTP Request",
         "200",
         "OK",
         "Prueba de disponibilidad de creacion de ordenes 1-1",
         "text",
         "True",
         null,
         "322",
         "140",
         "1",
         "1",
         "http://localhost:8080/monitor/ms-order-service",
         "171",
         "0",
         "0"
        ]
       ],
       "shape": {
        "columns": 17,
        "rows": 5
       }
      },
      "text/html": [
       "<div>\n",
       "<style scoped>\n",
       "    .dataframe tbody tr th:only-of-type {\n",
       "        vertical-align: middle;\n",
       "    }\n",
       "\n",
       "    .dataframe tbody tr th {\n",
       "        vertical-align: top;\n",
       "    }\n",
       "\n",
       "    .dataframe thead th {\n",
       "        text-align: right;\n",
       "    }\n",
       "</style>\n",
       "<table border=\"1\" class=\"dataframe\">\n",
       "  <thead>\n",
       "    <tr style=\"text-align: right;\">\n",
       "      <th></th>\n",
       "      <th>timeStamp</th>\n",
       "      <th>elapsed</th>\n",
       "      <th>label</th>\n",
       "      <th>responseCode</th>\n",
       "      <th>responseMessage</th>\n",
       "      <th>threadName</th>\n",
       "      <th>dataType</th>\n",
       "      <th>success</th>\n",
       "      <th>failureMessage</th>\n",
       "      <th>bytes</th>\n",
       "      <th>sentBytes</th>\n",
       "      <th>grpThreads</th>\n",
       "      <th>allThreads</th>\n",
       "      <th>URL</th>\n",
       "      <th>Latency</th>\n",
       "      <th>IdleTime</th>\n",
       "      <th>Connect</th>\n",
       "    </tr>\n",
       "  </thead>\n",
       "  <tbody>\n",
       "    <tr>\n",
       "      <th>0</th>\n",
       "      <td>1744066862505</td>\n",
       "      <td>167</td>\n",
       "      <td>HTTP Request</td>\n",
       "      <td>200</td>\n",
       "      <td>OK</td>\n",
       "      <td>Prueba de disponibilidad de creacion de ordene...</td>\n",
       "      <td>text</td>\n",
       "      <td>True</td>\n",
       "      <td>NaN</td>\n",
       "      <td>322</td>\n",
       "      <td>140</td>\n",
       "      <td>1</td>\n",
       "      <td>1</td>\n",
       "      <td>http://localhost:8080/monitor/ms-order-service</td>\n",
       "      <td>164</td>\n",
       "      <td>0</td>\n",
       "      <td>7</td>\n",
       "    </tr>\n",
       "    <tr>\n",
       "      <th>1</th>\n",
       "      <td>1744066862874</td>\n",
       "      <td>159</td>\n",
       "      <td>HTTP Request</td>\n",
       "      <td>200</td>\n",
       "      <td>OK</td>\n",
       "      <td>Prueba de disponibilidad de creacion de ordene...</td>\n",
       "      <td>text</td>\n",
       "      <td>True</td>\n",
       "      <td>NaN</td>\n",
       "      <td>321</td>\n",
       "      <td>140</td>\n",
       "      <td>1</td>\n",
       "      <td>1</td>\n",
       "      <td>http://localhost:8080/monitor/ms-order-service</td>\n",
       "      <td>159</td>\n",
       "      <td>0</td>\n",
       "      <td>0</td>\n",
       "    </tr>\n",
       "    <tr>\n",
       "      <th>2</th>\n",
       "      <td>1744066863278</td>\n",
       "      <td>174</td>\n",
       "      <td>HTTP Request</td>\n",
       "      <td>200</td>\n",
       "      <td>OK</td>\n",
       "      <td>Prueba de disponibilidad de creacion de ordene...</td>\n",
       "      <td>text</td>\n",
       "      <td>True</td>\n",
       "      <td>NaN</td>\n",
       "      <td>322</td>\n",
       "      <td>140</td>\n",
       "      <td>1</td>\n",
       "      <td>1</td>\n",
       "      <td>http://localhost:8080/monitor/ms-order-service</td>\n",
       "      <td>174</td>\n",
       "      <td>0</td>\n",
       "      <td>0</td>\n",
       "    </tr>\n",
       "    <tr>\n",
       "      <th>3</th>\n",
       "      <td>1744066863677</td>\n",
       "      <td>10</td>\n",
       "      <td>HTTP Request</td>\n",
       "      <td>200</td>\n",
       "      <td>OK</td>\n",
       "      <td>Prueba de disponibilidad de creacion de ordene...</td>\n",
       "      <td>text</td>\n",
       "      <td>True</td>\n",
       "      <td>NaN</td>\n",
       "      <td>380</td>\n",
       "      <td>140</td>\n",
       "      <td>1</td>\n",
       "      <td>1</td>\n",
       "      <td>http://localhost:8080/monitor/ms-order-service</td>\n",
       "      <td>10</td>\n",
       "      <td>0</td>\n",
       "      <td>0</td>\n",
       "    </tr>\n",
       "    <tr>\n",
       "      <th>4</th>\n",
       "      <td>1744066864077</td>\n",
       "      <td>171</td>\n",
       "      <td>HTTP Request</td>\n",
       "      <td>200</td>\n",
       "      <td>OK</td>\n",
       "      <td>Prueba de disponibilidad de creacion de ordene...</td>\n",
       "      <td>text</td>\n",
       "      <td>True</td>\n",
       "      <td>NaN</td>\n",
       "      <td>322</td>\n",
       "      <td>140</td>\n",
       "      <td>1</td>\n",
       "      <td>1</td>\n",
       "      <td>http://localhost:8080/monitor/ms-order-service</td>\n",
       "      <td>171</td>\n",
       "      <td>0</td>\n",
       "      <td>0</td>\n",
       "    </tr>\n",
       "  </tbody>\n",
       "</table>\n",
       "</div>"
      ],
      "text/plain": [
       "       timeStamp  elapsed         label  responseCode responseMessage  \\\n",
       "0  1744066862505      167  HTTP Request           200              OK   \n",
       "1  1744066862874      159  HTTP Request           200              OK   \n",
       "2  1744066863278      174  HTTP Request           200              OK   \n",
       "3  1744066863677       10  HTTP Request           200              OK   \n",
       "4  1744066864077      171  HTTP Request           200              OK   \n",
       "\n",
       "                                          threadName dataType  success  \\\n",
       "0  Prueba de disponibilidad de creacion de ordene...     text     True   \n",
       "1  Prueba de disponibilidad de creacion de ordene...     text     True   \n",
       "2  Prueba de disponibilidad de creacion de ordene...     text     True   \n",
       "3  Prueba de disponibilidad de creacion de ordene...     text     True   \n",
       "4  Prueba de disponibilidad de creacion de ordene...     text     True   \n",
       "\n",
       "   failureMessage  bytes  sentBytes  grpThreads  allThreads  \\\n",
       "0             NaN    322        140           1           1   \n",
       "1             NaN    321        140           1           1   \n",
       "2             NaN    322        140           1           1   \n",
       "3             NaN    380        140           1           1   \n",
       "4             NaN    322        140           1           1   \n",
       "\n",
       "                                              URL  Latency  IdleTime  Connect  \n",
       "0  http://localhost:8080/monitor/ms-order-service      164         0        7  \n",
       "1  http://localhost:8080/monitor/ms-order-service      159         0        0  \n",
       "2  http://localhost:8080/monitor/ms-order-service      174         0        0  \n",
       "3  http://localhost:8080/monitor/ms-order-service       10         0        0  \n",
       "4  http://localhost:8080/monitor/ms-order-service      171         0        0  "
      ]
     },
     "execution_count": 28,
     "metadata": {},
     "output_type": "execute_result"
    }
   ],
   "source": [
    "df_results_exp1.head()"
   ]
  },
  {
   "cell_type": "code",
   "execution_count": 29,
   "id": "4a487999",
   "metadata": {},
   "outputs": [
    {
     "data": {
      "application/vnd.microsoft.datawrangler.viewer.v0+json": {
       "columns": [
        {
         "name": "index",
         "rawType": "int64",
         "type": "integer"
        },
        {
         "name": "service",
         "rawType": "object",
         "type": "string"
        },
        {
         "name": "status",
         "rawType": "object",
         "type": "string"
        },
        {
         "name": "message",
         "rawType": "object",
         "type": "string"
        },
        {
         "name": "metrics",
         "rawType": "object",
         "type": "unknown"
        }
       ],
       "conversionMethod": "pd.DataFrame",
       "ref": "8cb3decd-ae67-40bf-bae0-72ffb5c49ffe",
       "rows": [
        [
         "0",
         "ms-order-service",
         "healthy",
         "Flujo completo exitoso",
         "{'total_time_ms': 188.94314765930176, 'created_order_id': 1641, 'timestamp': '2025-04-07T18:01:09.469664'}"
        ],
        [
         "1",
         "ms-order-service",
         "healthy",
         "Flujo completo exitoso",
         "{'total_time_ms': 173.86484146118164, 'created_order_id': 1680, 'timestamp': '2025-04-07T18:01:25.853790'}"
        ],
        [
         "2",
         "ms-order-service",
         "healthy",
         "Flujo completo exitoso",
         "{'total_time_ms': 186.6438388824463, 'created_order_id': 1696, 'timestamp': '2025-04-07T18:01:32.266657'}"
        ],
        [
         "3",
         "ms-order-service",
         "healthy",
         "Flujo completo exitoso",
         "{'total_time_ms': 174.5758056640625, 'created_order_id': 1722, 'timestamp': '2025-04-07T18:01:42.654179'}"
        ],
        [
         "4",
         "ms-order-service",
         "healthy",
         "Flujo completo exitoso",
         "{'total_time_ms': 170.5307960510254, 'created_order_id': 1644, 'timestamp': '2025-04-07T18:01:11.050619'}"
        ]
       ],
       "shape": {
        "columns": 4,
        "rows": 5
       }
      },
      "text/html": [
       "<div>\n",
       "<style scoped>\n",
       "    .dataframe tbody tr th:only-of-type {\n",
       "        vertical-align: middle;\n",
       "    }\n",
       "\n",
       "    .dataframe tbody tr th {\n",
       "        vertical-align: top;\n",
       "    }\n",
       "\n",
       "    .dataframe thead th {\n",
       "        text-align: right;\n",
       "    }\n",
       "</style>\n",
       "<table border=\"1\" class=\"dataframe\">\n",
       "  <thead>\n",
       "    <tr style=\"text-align: right;\">\n",
       "      <th></th>\n",
       "      <th>service</th>\n",
       "      <th>status</th>\n",
       "      <th>message</th>\n",
       "      <th>metrics</th>\n",
       "    </tr>\n",
       "  </thead>\n",
       "  <tbody>\n",
       "    <tr>\n",
       "      <th>0</th>\n",
       "      <td>ms-order-service</td>\n",
       "      <td>healthy</td>\n",
       "      <td>Flujo completo exitoso</td>\n",
       "      <td>{'total_time_ms': 188.94314765930176, 'created...</td>\n",
       "    </tr>\n",
       "    <tr>\n",
       "      <th>1</th>\n",
       "      <td>ms-order-service</td>\n",
       "      <td>healthy</td>\n",
       "      <td>Flujo completo exitoso</td>\n",
       "      <td>{'total_time_ms': 173.86484146118164, 'created...</td>\n",
       "    </tr>\n",
       "    <tr>\n",
       "      <th>2</th>\n",
       "      <td>ms-order-service</td>\n",
       "      <td>healthy</td>\n",
       "      <td>Flujo completo exitoso</td>\n",
       "      <td>{'total_time_ms': 186.6438388824463, 'created_...</td>\n",
       "    </tr>\n",
       "    <tr>\n",
       "      <th>3</th>\n",
       "      <td>ms-order-service</td>\n",
       "      <td>healthy</td>\n",
       "      <td>Flujo completo exitoso</td>\n",
       "      <td>{'total_time_ms': 174.5758056640625, 'created_...</td>\n",
       "    </tr>\n",
       "    <tr>\n",
       "      <th>4</th>\n",
       "      <td>ms-order-service</td>\n",
       "      <td>healthy</td>\n",
       "      <td>Flujo completo exitoso</td>\n",
       "      <td>{'total_time_ms': 170.5307960510254, 'created_...</td>\n",
       "    </tr>\n",
       "  </tbody>\n",
       "</table>\n",
       "</div>"
      ],
      "text/plain": [
       "            service   status                 message  \\\n",
       "0  ms-order-service  healthy  Flujo completo exitoso   \n",
       "1  ms-order-service  healthy  Flujo completo exitoso   \n",
       "2  ms-order-service  healthy  Flujo completo exitoso   \n",
       "3  ms-order-service  healthy  Flujo completo exitoso   \n",
       "4  ms-order-service  healthy  Flujo completo exitoso   \n",
       "\n",
       "                                             metrics  \n",
       "0  {'total_time_ms': 188.94314765930176, 'created...  \n",
       "1  {'total_time_ms': 173.86484146118164, 'created...  \n",
       "2  {'total_time_ms': 186.6438388824463, 'created_...  \n",
       "3  {'total_time_ms': 174.5758056640625, 'created_...  \n",
       "4  {'total_time_ms': 170.5307960510254, 'created_...  "
      ]
     },
     "execution_count": 29,
     "metadata": {},
     "output_type": "execute_result"
    }
   ],
   "source": [
    "# Read a folder full of json files and put it into a dataframe\n",
    "import os\n",
    "import json\n",
    "import pandas as pd\n",
    "def read_json_files_in_folder(folder_path):\n",
    "    data = []\n",
    "    for filename in os.listdir(folder_path):\n",
    "        if filename.endswith('.json'):\n",
    "            with open(os.path.join(folder_path, filename), 'r') as f:\n",
    "                data.append(json.load(f))\n",
    "    return pd.DataFrame(data)\n",
    "df_results_exp1 = read_json_files_in_folder('./responses/')\n",
    "df_results_exp1.head()\n"
   ]
  },
  {
   "cell_type": "code",
   "execution_count": 30,
   "id": "93e41d25",
   "metadata": {},
   "outputs": [
    {
     "data": {
      "application/vnd.microsoft.datawrangler.viewer.v0+json": {
       "columns": [
        {
         "name": "index",
         "rawType": "int64",
         "type": "integer"
        },
        {
         "name": "service",
         "rawType": "object",
         "type": "string"
        },
        {
         "name": "status",
         "rawType": "object",
         "type": "string"
        },
        {
         "name": "message",
         "rawType": "object",
         "type": "string"
        },
        {
         "name": "metric_total_time_ms",
         "rawType": "float64",
         "type": "float"
        },
        {
         "name": "metric_created_order_id",
         "rawType": "float64",
         "type": "float"
        },
        {
         "name": "metric_timestamp",
         "rawType": "object",
         "type": "string"
        },
        {
         "name": "metric_alert_id",
         "rawType": "object",
         "type": "unknown"
        }
       ],
       "conversionMethod": "pd.DataFrame",
       "ref": "6c79143a-2bd3-4d44-af8e-f45bbb29c49c",
       "rows": [
        [
         "0",
         "ms-order-service",
         "healthy",
         "Flujo completo exitoso",
         "188.94314765930176",
         "1641.0",
         "2025-04-07T18:01:09.469664",
         null
        ],
        [
         "1",
         "ms-order-service",
         "healthy",
         "Flujo completo exitoso",
         "173.86484146118164",
         "1680.0",
         "2025-04-07T18:01:25.853790",
         null
        ],
        [
         "2",
         "ms-order-service",
         "healthy",
         "Flujo completo exitoso",
         "186.6438388824463",
         "1696.0",
         "2025-04-07T18:01:32.266657",
         null
        ],
        [
         "3",
         "ms-order-service",
         "healthy",
         "Flujo completo exitoso",
         "174.5758056640625",
         "1722.0",
         "2025-04-07T18:01:42.654179",
         null
        ],
        [
         "4",
         "ms-order-service",
         "healthy",
         "Flujo completo exitoso",
         "170.5307960510254",
         "1644.0",
         "2025-04-07T18:01:11.050619",
         null
        ]
       ],
       "shape": {
        "columns": 7,
        "rows": 5
       }
      },
      "text/html": [
       "<div>\n",
       "<style scoped>\n",
       "    .dataframe tbody tr th:only-of-type {\n",
       "        vertical-align: middle;\n",
       "    }\n",
       "\n",
       "    .dataframe tbody tr th {\n",
       "        vertical-align: top;\n",
       "    }\n",
       "\n",
       "    .dataframe thead th {\n",
       "        text-align: right;\n",
       "    }\n",
       "</style>\n",
       "<table border=\"1\" class=\"dataframe\">\n",
       "  <thead>\n",
       "    <tr style=\"text-align: right;\">\n",
       "      <th></th>\n",
       "      <th>service</th>\n",
       "      <th>status</th>\n",
       "      <th>message</th>\n",
       "      <th>metric_total_time_ms</th>\n",
       "      <th>metric_created_order_id</th>\n",
       "      <th>metric_timestamp</th>\n",
       "      <th>metric_alert_id</th>\n",
       "    </tr>\n",
       "  </thead>\n",
       "  <tbody>\n",
       "    <tr>\n",
       "      <th>0</th>\n",
       "      <td>ms-order-service</td>\n",
       "      <td>healthy</td>\n",
       "      <td>Flujo completo exitoso</td>\n",
       "      <td>188.943148</td>\n",
       "      <td>1641.0</td>\n",
       "      <td>2025-04-07T18:01:09.469664</td>\n",
       "      <td>NaN</td>\n",
       "    </tr>\n",
       "    <tr>\n",
       "      <th>1</th>\n",
       "      <td>ms-order-service</td>\n",
       "      <td>healthy</td>\n",
       "      <td>Flujo completo exitoso</td>\n",
       "      <td>173.864841</td>\n",
       "      <td>1680.0</td>\n",
       "      <td>2025-04-07T18:01:25.853790</td>\n",
       "      <td>NaN</td>\n",
       "    </tr>\n",
       "    <tr>\n",
       "      <th>2</th>\n",
       "      <td>ms-order-service</td>\n",
       "      <td>healthy</td>\n",
       "      <td>Flujo completo exitoso</td>\n",
       "      <td>186.643839</td>\n",
       "      <td>1696.0</td>\n",
       "      <td>2025-04-07T18:01:32.266657</td>\n",
       "      <td>NaN</td>\n",
       "    </tr>\n",
       "    <tr>\n",
       "      <th>3</th>\n",
       "      <td>ms-order-service</td>\n",
       "      <td>healthy</td>\n",
       "      <td>Flujo completo exitoso</td>\n",
       "      <td>174.575806</td>\n",
       "      <td>1722.0</td>\n",
       "      <td>2025-04-07T18:01:42.654179</td>\n",
       "      <td>NaN</td>\n",
       "    </tr>\n",
       "    <tr>\n",
       "      <th>4</th>\n",
       "      <td>ms-order-service</td>\n",
       "      <td>healthy</td>\n",
       "      <td>Flujo completo exitoso</td>\n",
       "      <td>170.530796</td>\n",
       "      <td>1644.0</td>\n",
       "      <td>2025-04-07T18:01:11.050619</td>\n",
       "      <td>NaN</td>\n",
       "    </tr>\n",
       "  </tbody>\n",
       "</table>\n",
       "</div>"
      ],
      "text/plain": [
       "            service   status                 message  metric_total_time_ms  \\\n",
       "0  ms-order-service  healthy  Flujo completo exitoso            188.943148   \n",
       "1  ms-order-service  healthy  Flujo completo exitoso            173.864841   \n",
       "2  ms-order-service  healthy  Flujo completo exitoso            186.643839   \n",
       "3  ms-order-service  healthy  Flujo completo exitoso            174.575806   \n",
       "4  ms-order-service  healthy  Flujo completo exitoso            170.530796   \n",
       "\n",
       "   metric_created_order_id            metric_timestamp metric_alert_id  \n",
       "0                   1641.0  2025-04-07T18:01:09.469664             NaN  \n",
       "1                   1680.0  2025-04-07T18:01:25.853790             NaN  \n",
       "2                   1696.0  2025-04-07T18:01:32.266657             NaN  \n",
       "3                   1722.0  2025-04-07T18:01:42.654179             NaN  \n",
       "4                   1644.0  2025-04-07T18:01:11.050619             NaN  "
      ]
     },
     "execution_count": 30,
     "metadata": {},
     "output_type": "execute_result"
    }
   ],
   "source": [
    "# Expand metrics from nested json\n",
    "def expand_metrics(df):\n",
    "    metrics = df['metrics'].apply(pd.Series)\n",
    "    metrics.columns = [f'metric_{col}' for col in metrics.columns]\n",
    "    return pd.concat([df.drop(columns=['metrics']), metrics], axis=1)\n",
    "df_results_exp1 = expand_metrics(df_results_exp1)\n",
    "df_results_exp1.head()"
   ]
  },
  {
   "cell_type": "code",
   "execution_count": 32,
   "id": "837a1051",
   "metadata": {},
   "outputs": [
    {
     "data": {
      "application/vnd.microsoft.datawrangler.viewer.v0+json": {
       "columns": [
        {
         "name": "index",
         "rawType": "int64",
         "type": "integer"
        },
        {
         "name": "service",
         "rawType": "object",
         "type": "string"
        },
        {
         "name": "status",
         "rawType": "object",
         "type": "string"
        },
        {
         "name": "message",
         "rawType": "object",
         "type": "string"
        },
        {
         "name": "metric_total_time_ms",
         "rawType": "float64",
         "type": "float"
        },
        {
         "name": "metric_created_order_id",
         "rawType": "float64",
         "type": "float"
        },
        {
         "name": "metric_timestamp",
         "rawType": "object",
         "type": "string"
        },
        {
         "name": "metric_alert_id",
         "rawType": "object",
         "type": "unknown"
        }
       ],
       "conversionMethod": "pd.DataFrame",
       "ref": "55ba2d66-6969-47fb-9770-da586d7e25b5",
       "rows": [
        [
         "0",
         "ms-order-service",
         "healthy",
         "Flujo completo exitoso",
         "188.94314765930176",
         "1641.0",
         "2025-04-07T18:01:09.469664",
         null
        ],
        [
         "1",
         "ms-order-service",
         "healthy",
         "Flujo completo exitoso",
         "173.86484146118164",
         "1680.0",
         "2025-04-07T18:01:25.853790",
         null
        ],
        [
         "2",
         "ms-order-service",
         "healthy",
         "Flujo completo exitoso",
         "186.6438388824463",
         "1696.0",
         "2025-04-07T18:01:32.266657",
         null
        ],
        [
         "3",
         "ms-order-service",
         "healthy",
         "Flujo completo exitoso",
         "174.5758056640625",
         "1722.0",
         "2025-04-07T18:01:42.654179",
         null
        ],
        [
         "4",
         "ms-order-service",
         "healthy",
         "Flujo completo exitoso",
         "170.5307960510254",
         "1644.0",
         "2025-04-07T18:01:11.050619",
         null
        ]
       ],
       "shape": {
        "columns": 7,
        "rows": 5
       }
      },
      "text/html": [
       "<div>\n",
       "<style scoped>\n",
       "    .dataframe tbody tr th:only-of-type {\n",
       "        vertical-align: middle;\n",
       "    }\n",
       "\n",
       "    .dataframe tbody tr th {\n",
       "        vertical-align: top;\n",
       "    }\n",
       "\n",
       "    .dataframe thead th {\n",
       "        text-align: right;\n",
       "    }\n",
       "</style>\n",
       "<table border=\"1\" class=\"dataframe\">\n",
       "  <thead>\n",
       "    <tr style=\"text-align: right;\">\n",
       "      <th></th>\n",
       "      <th>service</th>\n",
       "      <th>status</th>\n",
       "      <th>message</th>\n",
       "      <th>metric_total_time_ms</th>\n",
       "      <th>metric_created_order_id</th>\n",
       "      <th>metric_timestamp</th>\n",
       "      <th>metric_alert_id</th>\n",
       "    </tr>\n",
       "  </thead>\n",
       "  <tbody>\n",
       "    <tr>\n",
       "      <th>0</th>\n",
       "      <td>ms-order-service</td>\n",
       "      <td>healthy</td>\n",
       "      <td>Flujo completo exitoso</td>\n",
       "      <td>188.943148</td>\n",
       "      <td>1641.0</td>\n",
       "      <td>2025-04-07T18:01:09.469664</td>\n",
       "      <td>NaN</td>\n",
       "    </tr>\n",
       "    <tr>\n",
       "      <th>1</th>\n",
       "      <td>ms-order-service</td>\n",
       "      <td>healthy</td>\n",
       "      <td>Flujo completo exitoso</td>\n",
       "      <td>173.864841</td>\n",
       "      <td>1680.0</td>\n",
       "      <td>2025-04-07T18:01:25.853790</td>\n",
       "      <td>NaN</td>\n",
       "    </tr>\n",
       "    <tr>\n",
       "      <th>2</th>\n",
       "      <td>ms-order-service</td>\n",
       "      <td>healthy</td>\n",
       "      <td>Flujo completo exitoso</td>\n",
       "      <td>186.643839</td>\n",
       "      <td>1696.0</td>\n",
       "      <td>2025-04-07T18:01:32.266657</td>\n",
       "      <td>NaN</td>\n",
       "    </tr>\n",
       "    <tr>\n",
       "      <th>3</th>\n",
       "      <td>ms-order-service</td>\n",
       "      <td>healthy</td>\n",
       "      <td>Flujo completo exitoso</td>\n",
       "      <td>174.575806</td>\n",
       "      <td>1722.0</td>\n",
       "      <td>2025-04-07T18:01:42.654179</td>\n",
       "      <td>NaN</td>\n",
       "    </tr>\n",
       "    <tr>\n",
       "      <th>4</th>\n",
       "      <td>ms-order-service</td>\n",
       "      <td>healthy</td>\n",
       "      <td>Flujo completo exitoso</td>\n",
       "      <td>170.530796</td>\n",
       "      <td>1644.0</td>\n",
       "      <td>2025-04-07T18:01:11.050619</td>\n",
       "      <td>NaN</td>\n",
       "    </tr>\n",
       "  </tbody>\n",
       "</table>\n",
       "</div>"
      ],
      "text/plain": [
       "            service   status                 message  metric_total_time_ms  \\\n",
       "0  ms-order-service  healthy  Flujo completo exitoso            188.943148   \n",
       "1  ms-order-service  healthy  Flujo completo exitoso            173.864841   \n",
       "2  ms-order-service  healthy  Flujo completo exitoso            186.643839   \n",
       "3  ms-order-service  healthy  Flujo completo exitoso            174.575806   \n",
       "4  ms-order-service  healthy  Flujo completo exitoso            170.530796   \n",
       "\n",
       "   metric_created_order_id            metric_timestamp metric_alert_id  \n",
       "0                   1641.0  2025-04-07T18:01:09.469664             NaN  \n",
       "1                   1680.0  2025-04-07T18:01:25.853790             NaN  \n",
       "2                   1696.0  2025-04-07T18:01:32.266657             NaN  \n",
       "3                   1722.0  2025-04-07T18:01:42.654179             NaN  \n",
       "4                   1644.0  2025-04-07T18:01:11.050619             NaN  "
      ]
     },
     "execution_count": 32,
     "metadata": {},
     "output_type": "execute_result"
    }
   ],
   "source": [
    "df_results_exp1.head()"
   ]
  },
  {
   "cell_type": "code",
   "execution_count": 45,
   "id": "5a4ba6c0",
   "metadata": {},
   "outputs": [
    {
     "name": "stderr",
     "output_type": "stream",
     "text": [
      "/var/folders/hr/d50662mj6z38mpr1xn8smf8w0000gn/T/ipykernel_39489/2708453364.py:9: FutureWarning: \n",
      "\n",
      "Passing `palette` without assigning `hue` is deprecated and will be removed in v0.14.0. Assign the `x` variable to `hue` and set `legend=False` for the same effect.\n",
      "\n",
      "  sns.barplot(x=status_counts.index, y=status_counts.values, palette=['#2ecc71', '#e74c3c'])\n"
     ]
    },
    {
     "data": {
      "text/plain": [
       "Text(0.5, 0.9, 'Disponibilidad: 96.00%')"
      ]
     },
     "execution_count": 45,
     "metadata": {},
     "output_type": "execute_result"
    },
    {
     "data": {
      "image/png": "[encoded data removed]",
      "text/plain": [
       "<Figure size 1000x600 with 1 Axes>"
      ]
     },
     "metadata": {},
     "output_type": "display_data"
    }
   ],
   "source": [
    "import matplotlib.pyplot as plt\n",
    "import seaborn as sns\n",
    "\n",
    "# Contar el número de ocurrencias por estado\n",
    "status_counts = df_results_exp1['status'].value_counts()\n",
    "\n",
    "# Crear un gráfico de barras\n",
    "plt.figure(figsize=(10, 6))\n",
    "sns.barplot(x=status_counts.index, y=status_counts.values, palette=['#2ecc71', '#e74c3c'])\n",
    "\n",
    "# Añadir etiquetas y título\n",
    "plt.xlabel('Estado del Servicio')\n",
    "plt.ylabel('Cantidad de Peticiones')\n",
    "plt.title('Estado de Salud del Servicio: Healthy vs Degraded')\n",
    "\n",
    "# Añadir números en las barras\n",
    "for i, count in enumerate(status_counts.values):\n",
    "    plt.text(i, count + 5, str(count), ha='center')\n",
    "\n",
    "# Mostrar porcentajes\n",
    "total = status_counts.sum()\n",
    "healthy_pct = (status_counts.get('healthy', 0) / total) * 100\n",
    "degraded_pct = (status_counts.get('degraded', 0) / total) * 100\n",
    "\n",
    "# Añadir una anotación con los porcentajes\n",
    "plt.annotate(f'Disponibilidad: {healthy_pct:.2f}%', \n",
    "             xy=(0.5, 0.9), \n",
    "             xycoords='figure fraction', \n",
    "             fontsize=12)"
   ]
  },
  {
   "cell_type": "code",
   "execution_count": 46,
   "id": "e8428774",
   "metadata": {},
   "outputs": [
    {
     "name": "stderr",
     "output_type": "stream",
     "text": [
      "/var/folders/hr/d50662mj6z38mpr1xn8smf8w0000gn/T/ipykernel_39489/1287361074.py:13: FutureWarning: \n",
      "\n",
      "Passing `palette` without assigning `hue` is deprecated and will be removed in v0.14.0. Assign the `x` variable to `hue` and set `legend=False` for the same effect.\n",
      "\n",
      "  ax = sns.boxplot(x='status', y='metric_total_time_ms', data=df_results_exp1,\n"
     ]
    },
    {
     "data": {
      "image/png": "[encoded data removed]",
      "text/plain": [
       "<Figure size 1200x800 with 1 Axes>"
      ]
     },
     "metadata": {},
     "output_type": "display_data"
    }
   ],
   "source": [
    "import matplotlib.pyplot as plt\n",
    "import seaborn as sns\n",
    "import numpy as np\n",
    "\n",
    "# Configurar el estilo de visualización\n",
    "plt.style.use('seaborn-v0_8-whitegrid')\n",
    "sns.set_palette('Set2')\n",
    "\n",
    "# Crear la figura con un tamaño adecuado\n",
    "plt.figure(figsize=(12, 8))\n",
    "\n",
    "# Crear el boxplot agrupado por status\n",
    "ax = sns.boxplot(x='status', y='metric_total_time_ms', data=df_results_exp1, \n",
    "            palette={'healthy': '#2ecc71', 'degraded': '#e74c3c'})\n",
    "\n",
    "# Añadir puntos individuales para ver la distribución\n",
    "sns.stripplot(x='status', y='metric_total_time_ms', data=df_results_exp1,\n",
    "             jitter=True, alpha=0.3, color='#7f8c8d')\n",
    "\n",
    "# Añadir etiquetas y título\n",
    "plt.xlabel('Estado del Servicio', fontsize=12)\n",
    "plt.ylabel('Tiempo total de respuesta (ms)', fontsize=12)\n",
    "plt.title('Distribución de tiempos de respuesta por estado del servicio', fontsize=14)\n",
    "\n",
    "# Añadir estadísticas descriptivas\n",
    "for status in df_results_exp1['status'].unique():\n",
    "    data = df_results_exp1[df_results_exp1['status'] == status]['metric_total_time_ms']\n",
    "    median = np.median(data)\n",
    "    mean = np.mean(data)\n",
    "    \n",
    "    # Añadir texto con estadísticas\n",
    "    y_pos = df_results_exp1['metric_total_time_ms'].max() * 0.85\n",
    "    if status == 'degraded':\n",
    "        y_pos = df_results_exp1['metric_total_time_ms'].max() * 0.95\n",
    "        \n",
    "    plt.text(\n",
    "        list(df_results_exp1['status'].unique()).index(status), \n",
    "        y_pos,\n",
    "        f'Mediana: {median:.2f} ms\\nPromedio: {mean:.2f} ms',\n",
    "        ha='center', \n",
    "        bbox={'facecolor': 'white', 'alpha': 0.8, 'pad': 5}\n",
    "    )\n",
    "\n",
    "# Ajustar escala del eje Y si hay valores atípicos extremos\n",
    "q1 = df_results_exp1['metric_total_time_ms'].quantile(0.25)\n",
    "q3 = df_results_exp1['metric_total_time_ms'].quantile(0.75)\n",
    "iqr = q3 - q1\n",
    "upper_whisker = min(df_results_exp1['metric_total_time_ms'].max(), q3 + 1.5 * iqr)\n",
    "plt.ylim(0, upper_whisker * 1.1)\n",
    "\n",
    "# Calcular métricas de disponibilidad\n",
    "total_requests = len(df_results_exp1)\n",
    "healthy_requests = df_results_exp1['status'].value_counts().get('healthy', 0)\n",
    "degraded_requests = df_results_exp1['status'].value_counts().get('degraded', 0)\n",
    "availability = (healthy_requests / total_requests) * 100\n",
    "\n",
    "# Añadir anotación con información de disponibilidad\n",
    "plt.figtext(0.5, 0.01, \n",
    "           f'Disponibilidad: {availability:.2f}% ({healthy_requests} healthy / {degraded_requests} degraded de {total_requests} solicitudes)',\n",
    "           ha='center', \n",
    "           fontsize=12,\n",
    "           bbox={'facecolor': '#d5f5e3', 'alpha': 0.8, 'pad': 8, 'boxstyle': 'round,pad=1'})\n",
    "\n",
    "# Ajustar límites de la gráfica\n",
    "plt.tight_layout(rect=[0, 0.05, 1, 0.95])\n",
    "\n",
    "# Mostrar la gráfica\n",
    "plt.show()"
   ]
  },
  {
   "cell_type": "code",
   "execution_count": 48,
   "id": "dd743809",
   "metadata": {},
   "outputs": [
    {
     "name": "stdout",
     "output_type": "stream",
     "text": [
      "Total de filas con estado 'degraded': 6\n",
      "\n",
      "Errores en 'Create order': 3\n",
      "Errores en 'Update order': 3\n",
      "\n",
      "Mensajes de error más comunes:\n",
      "message\n",
      "Error en monitoreo: Update order endpoint returned 500    3\n",
      "Error en monitoreo: Create order endpoint returned 500    3\n",
      "Name: count, dtype: int64\n",
      "\n",
      "Ejemplo de error en Create order:\n",
      "Error en monitoreo: Create order endpoint returned 500\n",
      "\n",
      "Ejemplo de error en Update order:\n",
      "Error en monitoreo: Update order endpoint returned 500\n"
     ]
    }
   ],
   "source": [
    "# Filtrar solo las filas con estado \"degraded\"\n",
    "degraded_rows = df_results_exp1[df_results_exp1['status'] == 'degraded']\n",
    "\n",
    "# Ver el número total de filas degradadas\n",
    "print(f\"Total de filas con estado 'degraded': {len(degraded_rows)}\")\n",
    "\n",
    "# Verificar si la columna 'message' existe en tu DataFrame\n",
    "if 'message' in degraded_rows.columns:\n",
    "    # Analizar los mensajes para categorizar los errores\n",
    "    create_order_failures = degraded_rows[degraded_rows['message'].str.contains('Create order|creación de orden|crear la orden', case=False, na=False)]\n",
    "    update_order_failures = degraded_rows[degraded_rows['message'].str.contains('Update order|actualización de orden|actualizar la orden', case=False, na=False)]\n",
    "    \n",
    "    print(f\"\\nErrores en 'Create order': {len(create_order_failures)}\")\n",
    "    print(f\"Errores en 'Update order': {len(update_order_failures)}\")\n",
    "    \n",
    "    # Ver los mensajes de error más comunes\n",
    "    print(\"\\nMensajes de error más comunes:\")\n",
    "    print(degraded_rows['message'].value_counts().head(5))\n",
    "    \n",
    "    # Mostrar ejemplos de cada tipo de error\n",
    "    if len(create_order_failures) > 0:\n",
    "        print(\"\\nEjemplo de error en Create order:\")\n",
    "        print(create_order_failures['message'].iloc[0])\n",
    "    \n",
    "    if len(update_order_failures) > 0:\n",
    "        print(\"\\nEjemplo de error en Update order:\")\n",
    "        print(update_order_failures['message'].iloc[0])\n",
    "else:\n",
    "    # Si no existe la columna 'message', buscar en otras columnas que puedan contener información sobre errores\n",
    "    print(\"La columna 'message' no existe en el DataFrame.\")\n",
    "    \n",
    "    # Mostrar las columnas disponibles que podrían contener información sobre errores\n",
    "    potential_error_columns = [col for col in degraded_rows.columns if any(term in col.lower() for term in ['error', 'message', 'detail', 'exception'])]\n",
    "    \n",
    "    if potential_error_columns:\n",
    "        print(f\"Columnas que podrían contener información sobre errores: {potential_error_columns}\")\n",
    "        \n",
    "        # Analizar la primera de estas columnas\n",
    "        first_error_col = potential_error_columns[0]\n",
    "        print(f\"\\nAnálisis de la columna '{first_error_col}':\")\n",
    "        print(degraded_rows[first_error_col].value_counts().head(5))\n",
    "    else:\n",
    "        # Como último recurso, mostrar todas las columnas disponibles\n",
    "        print(\"No se encontraron columnas que puedan contener información sobre errores.\")\n",
    "        print(\"Columnas disponibles:\")\n",
    "        print(degraded_rows.columns.tolist())\n",
    "        \n",
    "        # Mostrar las primeras filas para análisis manual\n",
    "        print(\"\\nPrimeras filas de datos degradados para análisis manual:\")\n",
    "        display(degraded_rows.head())"
   ]
  }
 ],
 "metadata": {
  "kernelspec": {
   "display_name": ".venv",
   "language": "python",
   "name": "python3"
  },
  "language_info": {
   "codemirror_mode": {
    "name": "ipython",
    "version": 3
   },
   "file_extension": ".py",
   "mimetype": "text/x-python",
   "name": "python",
   "nbconvert_exporter": "python",
   "pygments_lexer": "ipython3",
   "version": "3.11.10"
  }
 },
 "nbformat": 4,
 "nbformat_minor": 5
}
